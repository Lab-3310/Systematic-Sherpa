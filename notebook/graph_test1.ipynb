{
 "cells": [
  {
   "cell_type": "code",
   "execution_count": 5,
   "metadata": {},
   "outputs": [
    {
     "name": "stdout",
     "output_type": "stream",
     "text": [
      "https://vectorbt.dev/api/ohlcv_accessors/#vectorbt.ohlcv_accessors.OHLCVDFAccessor\n"
     ]
    }
   ],
   "source": [
    "import vectorbt as vbt\n",
    "import pandas as pd \n",
    "import numpy as np\n",
    "import datetime\n",
    "\n",
    "\n",
    "print('https://vectorbt.dev/api/ohlcv_accessors/#vectorbt.ohlcv_accessors.OHLCVDFAccessor')"
   ]
  },
  {
   "cell_type": "code",
   "execution_count": 6,
   "metadata": {},
   "outputs": [],
   "source": [
    "\n",
    "price_close=vbt.YFData.download('BTC-USD').get('Close')\n",
    "price_high=vbt.YFData.download('BTC-USD').get('High')\n",
    "price_open=vbt.YFData.download('BTC-USD').get('Open')\n",
    "price_low=vbt.YFData.download('BTC-USD').get('Low')\n",
    "price_volume=vbt.YFData.download('BTC-USD').get('Volume')\n",
    "\n",
    "df = pd.DataFrame({\n",
    "    'my_open1':price_open,\n",
    "    'my_high2': price_high,\n",
    "    'my_low3': price_low,\n",
    "    'my_close4':price_close,\n",
    "    'my_volume5': price_volume\n",
    "})\n",
    "\n",
    "my_column_names = dict(\n",
    "    open='my_open1',\n",
    "    high='my_high2',\n",
    "    low='my_low3',\n",
    "    close='my_close4',\n",
    "    volume='my_volume5',\n",
    ")\n",
    "\n",
    "ohlcv_acc = df.vbt.ohlcv(freq='d', column_names=my_column_names)\n",
    "\n"
   ]
  },
  {
   "cell_type": "code",
   "execution_count": 9,
   "metadata": {},
   "outputs": [
    {
     "data": {
      "application/vnd.jupyter.widget-view+json": {
       "model_id": "3f374e34712f4a408b48c6e0c67864df",
       "version_major": 2,
       "version_minor": 0
      },
      "text/plain": [
       "FigureWidget({\n",
       "    'data': [{'close': array([  457.33401489,   424.44000244,   394.79598999, ..., 29918.41210938,\n",
       "                              29993.89648438, 34639.640625  ]),\n",
       "              'decreasing': {'line': {'color': '#d95f02'}},\n",
       "              'high': array([  468.17401123,   456.85998535,   427.83499146, ..., 30287.48242188,\n",
       "                             30199.43359375, 34996.28125   ]),\n",
       "              'increasing': {'line': {'color': '#1b9e76'}},\n",
       "              'low': array([  452.42199707,   413.10400391,   384.53201294, ..., 29481.75195312,\n",
       "                            29720.3125    , 32880.76171875]),\n",
       "              'name': 'OHLC',\n",
       "              'open': array([  465.86401367,   456.85998535,   424.10299683, ..., 29683.38085938,\n",
       "                             29918.65429688, 33117.9140625 ]),\n",
       "              'type': 'ohlc',\n",
       "              'uid': '3080c928-c1bb-4232-83ce-2fc2ea67adc0',\n",
       "              'x': array([datetime.datetime(2014, 9, 17, 0, 0, tzinfo=datetime.timezone.utc),\n",
       "                          datetime.datetime(2014, 9, 18, 0, 0, tzinfo=datetime.timezone.utc),\n",
       "                          datetime.datetime(2014, 9, 19, 0, 0, tzinfo=datetime.timezone.utc), ...,\n",
       "                          datetime.datetime(2023, 10, 21, 0, 0, tzinfo=datetime.timezone.utc),\n",
       "                          datetime.datetime(2023, 10, 22, 0, 0, tzinfo=datetime.timezone.utc),\n",
       "                          datetime.datetime(2023, 10, 24, 0, 0, tzinfo=datetime.timezone.utc)],\n",
       "                         dtype=object),\n",
       "              'xaxis': 'x',\n",
       "              'yaxis': 'y'},\n",
       "             {'marker': {'color': array(['#d95f02', '#d95f02', '#d95f02', ..., '#1b9e76', '#1b9e76', '#1b9e76'],\n",
       "                                        dtype=object),\n",
       "                         'line': {'width': 0}},\n",
       "              'name': 'Volume',\n",
       "              'opacity': 0.5,\n",
       "              'type': 'bar',\n",
       "              'uid': 'b97774c2-63ef-4aea-9e5e-79713e3967a5',\n",
       "              'x': array([datetime.datetime(2014, 9, 17, 0, 0, tzinfo=datetime.timezone.utc),\n",
       "                          datetime.datetime(2014, 9, 18, 0, 0, tzinfo=datetime.timezone.utc),\n",
       "                          datetime.datetime(2014, 9, 19, 0, 0, tzinfo=datetime.timezone.utc), ...,\n",
       "                          datetime.datetime(2023, 10, 21, 0, 0, tzinfo=datetime.timezone.utc),\n",
       "                          datetime.datetime(2023, 10, 22, 0, 0, tzinfo=datetime.timezone.utc),\n",
       "                          datetime.datetime(2023, 10, 24, 0, 0, tzinfo=datetime.timezone.utc)],\n",
       "                         dtype=object),\n",
       "              'xaxis': 'x2',\n",
       "              'y': array([   21056800,    34483200,    37919700, ..., 11541146996, 10446520040,\n",
       "                          50138898432]),\n",
       "              'yaxis': 'y2'}],\n",
       "    'layout': {'bargap': 0,\n",
       "               'height': 350,\n",
       "               'legend': {'orientation': 'h',\n",
       "                          'traceorder': 'normal',\n",
       "                          'x': 1,\n",
       "                          'xanchor': 'right',\n",
       "                          'y': 1.02,\n",
       "                          'yanchor': 'bottom'},\n",
       "               'margin': {'b': 30, 'l': 30, 'r': 30, 't': 30},\n",
       "               'showlegend': True,\n",
       "               'template': '...',\n",
       "               'width': 700,\n",
       "               'xaxis': {'anchor': 'y',\n",
       "                         'domain': [0.0, 1.0],\n",
       "                         'matches': 'x2',\n",
       "                         'rangeslider': {'visible': False},\n",
       "                         'showgrid': True,\n",
       "                         'showticklabels': False},\n",
       "               'xaxis2': {'anchor': 'y2', 'domain': [0.0, 1.0], 'showgrid': True},\n",
       "               'yaxis': {'anchor': 'x', 'domain': [0.3, 1.0], 'showgrid': True},\n",
       "               'yaxis2': {'anchor': 'x2', 'domain': [0.0, 0.3], 'showgrid': True}}\n",
       "})"
      ]
     },
     "execution_count": 9,
     "metadata": {},
     "output_type": "execute_result"
    }
   ],
   "source": [
    "#show candle plot\n",
    "ohlcv_acc.plot()\n"
   ]
  }
 ],
 "metadata": {
  "kernelspec": {
   "display_name": "Python 3",
   "language": "python",
   "name": "python3"
  },
  "language_info": {
   "codemirror_mode": {
    "name": "ipython",
    "version": 3
   },
   "file_extension": ".py",
   "mimetype": "text/x-python",
   "name": "python",
   "nbconvert_exporter": "python",
   "pygments_lexer": "ipython3",
   "version": "3.8.16"
  },
  "orig_nbformat": 4
 },
 "nbformat": 4,
 "nbformat_minor": 2
}
