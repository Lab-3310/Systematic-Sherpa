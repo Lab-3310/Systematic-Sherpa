{
 "cells": [
  {
   "cell_type": "code",
   "execution_count": 11,
   "metadata": {},
   "outputs": [
    {
     "name": "stdout",
     "output_type": "stream",
     "text": [
      "https://vectorbt.dev/api/ohlcv_accessors/#vectorbt.ohlcv_accessors.OHLCVDFAccessor\n"
     ]
    }
   ],
   "source": [
    "import vectorbt as vbt\n",
    "import pandas as pd \n",
    "import numpy as np\n",
    "import datetime\n",
    "\n",
    "print('https://vectorbt.dev/api/ohlcv_accessors/#vectorbt.ohlcv_accessors.OHLCVDFAccessor')"
   ]
  },
  {
   "cell_type": "code",
   "execution_count": 12,
   "metadata": {},
   "outputs": [],
   "source": [
    "symbols = [\"BTC-USD\"]\n",
    "price_close=vbt.YFData.download(symbols).get('Close')"
   ]
  },
  {
   "cell_type": "code",
   "execution_count": 13,
   "metadata": {},
   "outputs": [],
   "source": [
    "price_close=vbt.YFData.download('BTC-USD').get('Close')\n",
    "price_high=vbt.YFData.download('BTC-USD').get('High')\n",
    "price_open=vbt.YFData.download('BTC-USD').get('Open')\n",
    "price_low=vbt.YFData.download('BTC-USD').get('Low')\n",
    "price_volume=vbt.YFData.download('BTC-USD').get('Volume')"
   ]
  },
  {
   "cell_type": "code",
   "execution_count": 14,
   "metadata": {},
   "outputs": [],
   "source": [
    "df = pd.DataFrame({\n",
    "    'my_open1':price_open,\n",
    "    'my_high2': price_high,\n",
    "    'my_low3': price_low,\n",
    "    'my_close4':price_close,\n",
    "    'my_volume5': price_volume\n",
    "})\n"
   ]
  },
  {
   "cell_type": "code",
   "execution_count": 15,
   "metadata": {},
   "outputs": [],
   "source": [
    "my_column_names = dict(\n",
    "    open='my_open1',\n",
    "    high='my_high2',\n",
    "    low='my_low3',\n",
    "    close='my_close4',\n",
    "    volume='my_volume5',\n",
    ")"
   ]
  },
  {
   "cell_type": "code",
   "execution_count": null,
   "metadata": {},
   "outputs": [],
   "source": []
  },
  {
   "cell_type": "code",
   "execution_count": 16,
   "metadata": {},
   "outputs": [],
   "source": [
    "ohlcv_acc = df.vbt.ohlcv(freq='d', column_names=my_column_names)\n"
   ]
  },
  {
   "cell_type": "code",
   "execution_count": 17,
   "metadata": {},
   "outputs": [
    {
     "data": {
      "application/vnd.jupyter.widget-view+json": {
       "model_id": "de060f79013f45c19de42d9b921a2686",
       "version_major": 2,
       "version_minor": 0
      },
      "text/plain": [
       "FigureWidget({\n",
       "    'data': [{'close': array([  457.33401489,   424.44000244,   394.79598999, ..., 26534.1875    ,\n",
       "                              26754.28125   , 27098.703125  ]),\n",
       "              'decreasing': {'line': {'color': '#d95f02'}},\n",
       "              'high': array([  468.17401123,   456.85998535,   427.83499146, ..., 26617.99804688,\n",
       "                             27414.734375  , 27379.50585938]),\n",
       "              'increasing': {'line': {'color': '#1b9e76'}},\n",
       "              'legendgroup': '0',\n",
       "              'low': array([  452.42199707,   413.10400391,   384.53201294, ..., 26445.07421875,\n",
       "                            26415.515625  , 26956.5859375 ]),\n",
       "              'name': 'Candlestick',\n",
       "              'open': array([  465.86401367,   456.85998535,   424.10299683, ..., 26567.92773438,\n",
       "                             26532.99414062, 27210.55664062]),\n",
       "              'type': 'candlestick',\n",
       "              'uid': 'd41c92d4-b8cc-42df-b1ea-5cf77624917f',\n",
       "              'x': array([datetime.datetime(2014, 9, 17, 0, 0, tzinfo=datetime.timezone.utc),\n",
       "                          datetime.datetime(2014, 9, 18, 0, 0, tzinfo=datetime.timezone.utc),\n",
       "                          datetime.datetime(2014, 9, 19, 0, 0, tzinfo=datetime.timezone.utc), ...,\n",
       "                          datetime.datetime(2023, 9, 17, 0, 0, tzinfo=datetime.timezone.utc),\n",
       "                          datetime.datetime(2023, 9, 18, 0, 0, tzinfo=datetime.timezone.utc),\n",
       "                          datetime.datetime(2023, 9, 20, 0, 0, tzinfo=datetime.timezone.utc)],\n",
       "                         dtype=object)}],\n",
       "    'layout': {'annotations': [{'font': {'size': 16},\n",
       "                                'showarrow': False,\n",
       "                                'text': 'OHLC',\n",
       "                                'x': 0.5,\n",
       "                                'xanchor': 'center',\n",
       "                                'xref': 'paper',\n",
       "                                'y': 1.0,\n",
       "                                'yanchor': 'bottom',\n",
       "                                'yref': 'paper'}],\n",
       "               'height': 380,\n",
       "               'legend': {'orientation': 'h',\n",
       "                          'traceorder': 'normal',\n",
       "                          'x': 1,\n",
       "                          'xanchor': 'right',\n",
       "                          'y': 1.1052631578947367,\n",
       "                          'yanchor': 'bottom'},\n",
       "               'margin': {'b': 30, 'l': 30, 'r': 30, 't': 30},\n",
       "               'showlegend': True,\n",
       "               'template': '...',\n",
       "               'width': 750,\n",
       "               'xaxis': {'anchor': 'y',\n",
       "                         'domain': [0.0, 1.0],\n",
       "                         'rangeslider': {'visible': False},\n",
       "                         'showgrid': True,\n",
       "                         'title': {'text': 'Index'}},\n",
       "               'yaxis': {'anchor': 'x', 'domain': [0.0, 1.0], 'showgrid': True}}\n",
       "})"
      ]
     },
     "execution_count": 17,
     "metadata": {},
     "output_type": "execute_result"
    }
   ],
   "source": [
    "s"
   ]
  },
  {
   "cell_type": "code",
   "execution_count": null,
   "metadata": {},
   "outputs": [],
   "source": []
  },
  {
   "cell_type": "code",
   "execution_count": 18,
   "metadata": {},
   "outputs": [
    {
     "data": {
      "application/vnd.jupyter.widget-view+json": {
       "model_id": "710fa49debe34f96a7af52692f40f91d",
       "version_major": 2,
       "version_minor": 0
      },
      "text/plain": [
       "FigureWidget({\n",
       "    'data': [{'close': array([  457.33401489,   424.44000244,   394.79598999, ..., 26534.1875    ,\n",
       "                              26754.28125   , 27098.703125  ]),\n",
       "              'decreasing': {'line': {'color': '#d95f02'}},\n",
       "              'high': array([  468.17401123,   456.85998535,   427.83499146, ..., 26617.99804688,\n",
       "                             27414.734375  , 27379.50585938]),\n",
       "              'increasing': {'line': {'color': '#1b9e76'}},\n",
       "              'low': array([  452.42199707,   413.10400391,   384.53201294, ..., 26445.07421875,\n",
       "                            26415.515625  , 26956.5859375 ]),\n",
       "              'name': 'OHLC',\n",
       "              'open': array([  465.86401367,   456.85998535,   424.10299683, ..., 26567.92773438,\n",
       "                             26532.99414062, 27210.55664062]),\n",
       "              'type': 'ohlc',\n",
       "              'uid': '96540b40-69f7-48d2-b55b-c6a2fbba8401',\n",
       "              'x': array([datetime.datetime(2014, 9, 17, 0, 0, tzinfo=datetime.timezone.utc),\n",
       "                          datetime.datetime(2014, 9, 18, 0, 0, tzinfo=datetime.timezone.utc),\n",
       "                          datetime.datetime(2014, 9, 19, 0, 0, tzinfo=datetime.timezone.utc), ...,\n",
       "                          datetime.datetime(2023, 9, 17, 0, 0, tzinfo=datetime.timezone.utc),\n",
       "                          datetime.datetime(2023, 9, 18, 0, 0, tzinfo=datetime.timezone.utc),\n",
       "                          datetime.datetime(2023, 9, 20, 0, 0, tzinfo=datetime.timezone.utc)],\n",
       "                         dtype=object),\n",
       "              'xaxis': 'x',\n",
       "              'yaxis': 'y'},\n",
       "             {'marker': {'color': array(['#d95f02', '#d95f02', '#d95f02', ..., '#d95f02', '#1b9e76', '#d95f02'],\n",
       "                                        dtype=object),\n",
       "                         'line': {'width': 0}},\n",
       "              'name': 'Volume',\n",
       "              'opacity': 0.5,\n",
       "              'type': 'bar',\n",
       "              'uid': 'c8a1f1af-8e05-4a6c-9025-69c7e80a71c3',\n",
       "              'x': array([datetime.datetime(2014, 9, 17, 0, 0, tzinfo=datetime.timezone.utc),\n",
       "                          datetime.datetime(2014, 9, 18, 0, 0, tzinfo=datetime.timezone.utc),\n",
       "                          datetime.datetime(2014, 9, 19, 0, 0, tzinfo=datetime.timezone.utc), ...,\n",
       "                          datetime.datetime(2023, 9, 17, 0, 0, tzinfo=datetime.timezone.utc),\n",
       "                          datetime.datetime(2023, 9, 18, 0, 0, tzinfo=datetime.timezone.utc),\n",
       "                          datetime.datetime(2023, 9, 20, 0, 0, tzinfo=datetime.timezone.utc)],\n",
       "                         dtype=object),\n",
       "              'xaxis': 'x2',\n",
       "              'y': array([   21056800,    34483200,    37919700, ...,  6774210670, 15615339655,\n",
       "                          13505526784]),\n",
       "              'yaxis': 'y2'}],\n",
       "    'layout': {'bargap': 0,\n",
       "               'height': 350,\n",
       "               'legend': {'orientation': 'h',\n",
       "                          'traceorder': 'normal',\n",
       "                          'x': 1,\n",
       "                          'xanchor': 'right',\n",
       "                          'y': 1.02,\n",
       "                          'yanchor': 'bottom'},\n",
       "               'margin': {'b': 30, 'l': 30, 'r': 30, 't': 30},\n",
       "               'showlegend': True,\n",
       "               'template': '...',\n",
       "               'width': 700,\n",
       "               'xaxis': {'anchor': 'y',\n",
       "                         'domain': [0.0, 1.0],\n",
       "                         'matches': 'x2',\n",
       "                         'rangeslider': {'visible': False},\n",
       "                         'showgrid': True,\n",
       "                         'showticklabels': False},\n",
       "               'xaxis2': {'anchor': 'y2', 'domain': [0.0, 1.0], 'showgrid': True},\n",
       "               'yaxis': {'anchor': 'x', 'domain': [0.3, 1.0], 'showgrid': True},\n",
       "               'yaxis2': {'anchor': 'x2', 'domain': [0.0, 0.3], 'showgrid': True}}\n",
       "})"
      ]
     },
     "execution_count": 18,
     "metadata": {},
     "output_type": "execute_result"
    }
   ],
   "source": [
    "vbt.YFData.download(\"BTC-USD\").get().vbt.ohlcv.plot()"
   ]
  }
 ],
 "metadata": {
  "kernelspec": {
   "display_name": "Python 3",
   "language": "python",
   "name": "python3"
  },
  "language_info": {
   "codemirror_mode": {
    "name": "ipython",
    "version": 3
   },
   "file_extension": ".py",
   "mimetype": "text/x-python",
   "name": "python",
   "nbconvert_exporter": "python",
   "pygments_lexer": "ipython3",
   "version": "3.8.16"
  },
  "orig_nbformat": 4
 },
 "nbformat": 4,
 "nbformat_minor": 2
}
