{
 "cells": [
  {
   "cell_type": "code",
   "execution_count": 9,
   "metadata": {},
   "outputs": [
    {
     "name": "stdout",
     "output_type": "stream",
     "text": [
      "https://vectorbt.dev/api/ohlcv_accessors/#vectorbt.ohlcv_accessors.OHLCVDFAccessor\n"
     ]
    }
   ],
   "source": [
    "import vectorbt as vbt\n",
    "import pandas as pd \n",
    "import numpy as np\n",
    "import datetime\n",
    "\n",
    "print('https://vectorbt.dev/api/ohlcv_accessors/#vectorbt.ohlcv_accessors.OHLCVDFAccessor')"
   ]
  },
  {
   "cell_type": "code",
   "execution_count": 10,
   "metadata": {},
   "outputs": [],
   "source": [
    "price_close=vbt.YFData.download('BTC-USD').get('Close')\n",
    "price_high=vbt.YFData.download('BTC-USD').get('High')\n",
    "price_open=vbt.YFData.download('BTC-USD').get('Open')\n",
    "price_low=vbt.YFData.download('BTC-USD').get('Low')\n",
    "price_volume=vbt.YFData.download('BTC-USD').get('Volume')"
   ]
  },
  {
   "cell_type": "code",
   "execution_count": 11,
   "metadata": {},
   "outputs": [],
   "source": [
    "df = pd.DataFrame({\n",
    "    'my_open1':price_open,\n",
    "    'my_high2': price_high,\n",
    "    'my_low3': price_low,\n",
    "    'my_close4':price_close,\n",
    "    'my_volume5': price_volume\n",
    "})\n"
   ]
  },
  {
   "cell_type": "code",
   "execution_count": 12,
   "metadata": {},
   "outputs": [],
   "source": [
    "my_column_names = dict(\n",
    "    open='my_open1',\n",
    "    high='my_high2',\n",
    "    low='my_low3',\n",
    "    close='my_close4',\n",
    "    volume='my_volume5',\n",
    ")"
   ]
  },
  {
   "cell_type": "code",
   "execution_count": null,
   "metadata": {},
   "outputs": [],
   "source": []
  },
  {
   "cell_type": "code",
   "execution_count": 13,
   "metadata": {},
   "outputs": [],
   "source": [
    "ohlcv_acc = df.vbt.ohlcv(freq='d', column_names=my_column_names)\n"
   ]
  },
  {
   "cell_type": "code",
   "execution_count": 14,
   "metadata": {},
   "outputs": [
    {
     "data": {
      "application/vnd.jupyter.widget-view+json": {
       "model_id": "1a011dd48bf94fcabd22a5f824371154",
       "version_major": 2,
       "version_minor": 0
      },
      "text/plain": [
       "FigureWidget({\n",
       "    'data': [{'close': array([  457.33401489,   424.44000244,   394.79598999, ..., 25779.98242188,\n",
       "                              25753.23632812, 25722.13476562]),\n",
       "              'decreasing': {'line': {'color': '#d95f02'}},\n",
       "              'high': array([  468.17401123,   456.85998535,   427.83499146, ..., 25858.375     ,\n",
       "                             25953.015625  , 25826.83007812]),\n",
       "              'increasing': {'line': {'color': '#1b9e76'}},\n",
       "              'legendgroup': '0',\n",
       "              'low': array([  452.42199707,   413.10400391,   384.53201294, ..., 25589.98828125,\n",
       "                            25404.359375  , 25620.89453125]),\n",
       "              'name': 'Candlestick',\n",
       "              'open': array([  465.86401367,   456.85998535,   424.10299683, ..., 25814.95703125,\n",
       "                             25783.93164062, 25749.32421875]),\n",
       "              'type': 'candlestick',\n",
       "              'uid': 'cffcacef-5bf6-413e-ac2c-13cfdef3a436',\n",
       "              'x': array([datetime.datetime(2014, 9, 17, 0, 0, tzinfo=datetime.timezone.utc),\n",
       "                          datetime.datetime(2014, 9, 18, 0, 0, tzinfo=datetime.timezone.utc),\n",
       "                          datetime.datetime(2014, 9, 19, 0, 0, tzinfo=datetime.timezone.utc), ...,\n",
       "                          datetime.datetime(2023, 9, 5, 0, 0, tzinfo=datetime.timezone.utc),\n",
       "                          datetime.datetime(2023, 9, 6, 0, 0, tzinfo=datetime.timezone.utc),\n",
       "                          datetime.datetime(2023, 9, 7, 0, 0, tzinfo=datetime.timezone.utc)],\n",
       "                         dtype=object)}],\n",
       "    'layout': {'annotations': [{'font': {'size': 16},\n",
       "                                'showarrow': False,\n",
       "                                'text': 'OHLC',\n",
       "                                'x': 0.5,\n",
       "                                'xanchor': 'center',\n",
       "                                'xref': 'paper',\n",
       "                                'y': 1.0,\n",
       "                                'yanchor': 'bottom',\n",
       "                                'yref': 'paper'}],\n",
       "               'height': 380,\n",
       "               'legend': {'orientation': 'h',\n",
       "                          'traceorder': 'normal',\n",
       "                          'x': 1,\n",
       "                          'xanchor': 'right',\n",
       "                          'y': 1.1052631578947367,\n",
       "                          'yanchor': 'bottom'},\n",
       "               'margin': {'b': 30, 'l': 30, 'r': 30, 't': 30},\n",
       "               'showlegend': True,\n",
       "               'template': '...',\n",
       "               'width': 750,\n",
       "               'xaxis': {'anchor': 'y',\n",
       "                         'domain': [0.0, 1.0],\n",
       "                         'rangeslider': {'visible': False},\n",
       "                         'showgrid': True,\n",
       "                         'title': {'text': 'Index'}},\n",
       "               'yaxis': {'anchor': 'x', 'domain': [0.0, 1.0], 'showgrid': True}}\n",
       "})"
      ]
     },
     "execution_count": 14,
     "metadata": {},
     "output_type": "execute_result"
    }
   ],
   "source": [
    "ohlcv_acc.plots(settings=dict(plot_type='candlestick'))\n"
   ]
  },
  {
   "cell_type": "code",
   "execution_count": null,
   "metadata": {},
   "outputs": [],
   "source": []
  },
  {
   "cell_type": "code",
   "execution_count": 15,
   "metadata": {},
   "outputs": [
    {
     "data": {
      "application/vnd.jupyter.widget-view+json": {
       "model_id": "4974845bcb5c4603b89ff9c9f805d0a2",
       "version_major": 2,
       "version_minor": 0
      },
      "text/plain": [
       "FigureWidget({\n",
       "    'data': [{'close': array([  457.33401489,   424.44000244,   394.79598999, ..., 25779.98242188,\n",
       "                              25753.23632812, 25722.13476562]),\n",
       "              'decreasing': {'line': {'color': '#d95f02'}},\n",
       "              'high': array([  468.17401123,   456.85998535,   427.83499146, ..., 25858.375     ,\n",
       "                             25953.015625  , 25826.83007812]),\n",
       "              'increasing': {'line': {'color': '#1b9e76'}},\n",
       "              'low': array([  452.42199707,   413.10400391,   384.53201294, ..., 25589.98828125,\n",
       "                            25404.359375  , 25620.89453125]),\n",
       "              'name': 'OHLC',\n",
       "              'open': array([  465.86401367,   456.85998535,   424.10299683, ..., 25814.95703125,\n",
       "                             25783.93164062, 25749.32421875]),\n",
       "              'type': 'ohlc',\n",
       "              'uid': '802f084d-f3f8-47ef-b1a7-8b4193677595',\n",
       "              'x': array([datetime.datetime(2014, 9, 17, 0, 0, tzinfo=datetime.timezone.utc),\n",
       "                          datetime.datetime(2014, 9, 18, 0, 0, tzinfo=datetime.timezone.utc),\n",
       "                          datetime.datetime(2014, 9, 19, 0, 0, tzinfo=datetime.timezone.utc), ...,\n",
       "                          datetime.datetime(2023, 9, 5, 0, 0, tzinfo=datetime.timezone.utc),\n",
       "                          datetime.datetime(2023, 9, 6, 0, 0, tzinfo=datetime.timezone.utc),\n",
       "                          datetime.datetime(2023, 9, 7, 0, 0, tzinfo=datetime.timezone.utc)],\n",
       "                         dtype=object),\n",
       "              'xaxis': 'x',\n",
       "              'yaxis': 'y'},\n",
       "             {'marker': {'color': array(['#d95f02', '#d95f02', '#d95f02', ..., '#d95f02', '#d95f02', '#d95f02'],\n",
       "                                        dtype=object),\n",
       "                         'line': {'width': 0}},\n",
       "              'name': 'Volume',\n",
       "              'opacity': 0.5,\n",
       "              'type': 'bar',\n",
       "              'uid': '091bcac7-040d-4417-ac0e-fa476be0f141',\n",
       "              'x': array([datetime.datetime(2014, 9, 17, 0, 0, tzinfo=datetime.timezone.utc),\n",
       "                          datetime.datetime(2014, 9, 18, 0, 0, tzinfo=datetime.timezone.utc),\n",
       "                          datetime.datetime(2014, 9, 19, 0, 0, tzinfo=datetime.timezone.utc), ...,\n",
       "                          datetime.datetime(2023, 9, 5, 0, 0, tzinfo=datetime.timezone.utc),\n",
       "                          datetime.datetime(2023, 9, 6, 0, 0, tzinfo=datetime.timezone.utc),\n",
       "                          datetime.datetime(2023, 9, 7, 0, 0, tzinfo=datetime.timezone.utc)],\n",
       "                         dtype=object),\n",
       "              'xaxis': 'x2',\n",
       "              'y': array([   21056800,    34483200,    37919700, ..., 11094740040, 12752705327,\n",
       "                          11123602432]),\n",
       "              'yaxis': 'y2'}],\n",
       "    'layout': {'bargap': 0,\n",
       "               'height': 350,\n",
       "               'legend': {'orientation': 'h',\n",
       "                          'traceorder': 'normal',\n",
       "                          'x': 1,\n",
       "                          'xanchor': 'right',\n",
       "                          'y': 1.02,\n",
       "                          'yanchor': 'bottom'},\n",
       "               'margin': {'b': 30, 'l': 30, 'r': 30, 't': 30},\n",
       "               'showlegend': True,\n",
       "               'template': '...',\n",
       "               'width': 700,\n",
       "               'xaxis': {'anchor': 'y',\n",
       "                         'domain': [0.0, 1.0],\n",
       "                         'matches': 'x2',\n",
       "                         'rangeslider': {'visible': False},\n",
       "                         'showgrid': True,\n",
       "                         'showticklabels': False},\n",
       "               'xaxis2': {'anchor': 'y2', 'domain': [0.0, 1.0], 'showgrid': True},\n",
       "               'yaxis': {'anchor': 'x', 'domain': [0.3, 1.0], 'showgrid': True},\n",
       "               'yaxis2': {'anchor': 'x2', 'domain': [0.0, 0.3], 'showgrid': True}}\n",
       "})"
      ]
     },
     "execution_count": 15,
     "metadata": {},
     "output_type": "execute_result"
    }
   ],
   "source": [
    "vbt.YFData.download(\"BTC-USD\").get().vbt.ohlcv.plot()"
   ]
  }
 ],
 "metadata": {
  "kernelspec": {
   "display_name": "Python 3",
   "language": "python",
   "name": "python3"
  },
  "language_info": {
   "codemirror_mode": {
    "name": "ipython",
    "version": 3
   },
   "file_extension": ".py",
   "mimetype": "text/x-python",
   "name": "python",
   "nbconvert_exporter": "python",
   "pygments_lexer": "ipython3",
   "version": "3.8.16"
  },
  "orig_nbformat": 4
 },
 "nbformat": 4,
 "nbformat_minor": 2
}
