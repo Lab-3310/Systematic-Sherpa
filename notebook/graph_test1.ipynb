{
 "cells": [
  {
   "cell_type": "code",
   "execution_count": 1,
   "metadata": {},
   "outputs": [
    {
     "name": "stderr",
     "output_type": "stream",
     "text": [
      "/Users/chenyoulun/anaconda3/envs/Allen/lib/python3.8/site-packages/numba/core/decorators.py:262: NumbaDeprecationWarning: numba.generated_jit is deprecated. Please see the documentation at: https://numba.readthedocs.io/en/stable/reference/deprecation.html#deprecation-of-generated-jit for more information and advice on a suitable replacement.\n",
      "  warnings.warn(msg, NumbaDeprecationWarning)\n"
     ]
    },
    {
     "name": "stdout",
     "output_type": "stream",
     "text": [
      "https://vectorbt.dev/api/ohlcv_accessors/#vectorbt.ohlcv_accessors.OHLCVDFAccessor\n"
     ]
    }
   ],
   "source": [
    "import vectorbt as vbt\n",
    "import pandas as pd \n",
    "import numpy as np\n",
    "import datetime\n",
    "\n",
    "print('https://vectorbt.dev/api/ohlcv_accessors/#vectorbt.ohlcv_accessors.OHLCVDFAccessor')"
   ]
  },
  {
   "cell_type": "code",
   "execution_count": null,
   "metadata": {},
   "outputs": [],
   "source": [
    "symbols = [\"BTC-USD\"]\n",
    "price_close=vbt.YFData.download(symbols).get('Close')"
   ]
  },
  {
   "cell_type": "code",
   "execution_count": null,
   "metadata": {},
   "outputs": [],
   "source": [
    "price_close=vbt.YFData.download('BTC-USD').get('Close')\n",
    "price_high=vbt.YFData.download('BTC-USD').get('High')\n",
    "price_open=vbt.YFData.download('BTC-USD').get('Open')\n",
    "price_low=vbt.YFData.download('BTC-USD').get('Low')\n",
    "price_volume=vbt.YFData.download('BTC-USD').get('Volume')"
   ]
  },
  {
   "cell_type": "code",
   "execution_count": null,
   "metadata": {},
   "outputs": [],
   "source": [
    "df"
   ]
  },
  {
   "cell_type": "code",
   "execution_count": null,
   "metadata": {},
   "outputs": [],
   "source": [
    "df = pd.DataFrame({\n",
    "    'my_open1':price_open,\n",
    "    'my_high2': price_high,\n",
    "    'my_low3': price_low,\n",
    "    'my_close4':price_close,\n",
    "    'my_volume5': price_volume\n",
    "})\n"
   ]
  },
  {
   "cell_type": "code",
   "execution_count": null,
   "metadata": {},
   "outputs": [],
   "source": [
    "my_column_names = dict(\n",
    "    open='my_open1',\n",
    "    high='my_high2',\n",
    "    low='my_low3',\n",
    "    close='my_close4',\n",
    "    volume='my_volume5',\n",
    ")"
   ]
  },
  {
   "cell_type": "code",
   "execution_count": null,
   "metadata": {},
   "outputs": [],
   "source": [
    "ohlcv_acc = df.vbt.ohlcv(freq='d', column_names=my_column_names)\n"
   ]
  },
  {
   "cell_type": "code",
   "execution_count": null,
   "metadata": {},
   "outputs": [],
   "source": [
    "ohlcv_acc.plot()"
   ]
  },
  {
   "cell_type": "code",
   "execution_count": null,
   "metadata": {},
   "outputs": [],
   "source": [
    "ohlcv_acc.plot()"
   ]
  },
  {
   "cell_type": "code",
   "execution_count": null,
   "metadata": {},
   "outputs": [],
   "source": [
    "vbt.YFData.download(\"BTC-USD\").get().vbt.ohlcv.plot()"
   ]
  }
 ],
 "metadata": {
  "kernelspec": {
   "display_name": "Python 3",
   "language": "python",
   "name": "python3"
  },
  "language_info": {
   "codemirror_mode": {
    "name": "ipython",
    "version": 3
   },
   "file_extension": ".py",
   "mimetype": "text/x-python",
   "name": "python",
   "nbconvert_exporter": "python",
   "pygments_lexer": "ipython3",
   "version": "3.8.16"
  },
  "orig_nbformat": 4
 },
 "nbformat": 4,
 "nbformat_minor": 2
}
