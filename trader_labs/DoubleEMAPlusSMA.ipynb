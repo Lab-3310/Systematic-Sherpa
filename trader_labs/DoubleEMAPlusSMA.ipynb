{
 "cells": [
  {
   "cell_type": "code",
   "execution_count": 2,
   "id": "5cc7a58f-5ea2-4a4e-b36a-6fe28d5c8e4e",
   "metadata": {},
   "outputs": [],
   "source": [
    "import sys, os\n",
    "sys.path.insert(1, '/Users/chenyoulun/vectorbt-research')\n",
    "\n",
    "from strategies.double_ema_plus_sma import DoubleEMAPlusSMA\n",
    "\n",
    "strategy_class = 'DoubleEMAPlusSMA'\n",
    "strategy_config = 'double_ema_plus_sma_config_01'"
   ]
  },
  {
   "cell_type": "code",
   "execution_count": 3,
   "id": "f83ae57f-8ac1-4852-b3a8-efae499c95e2",
   "metadata": {},
   "outputs": [
    {
     "ename": "ParsingError",
     "evalue": "Source contains parsing errors: '/Users/chenyoulun/vectorbt-research/strategies/../handler/../config/path_config.ini'\n\t[line  4]: 'jkj\\n'",
     "output_type": "error",
     "traceback": [
      "\u001b[0;31m---------------------------------------------------------------------------\u001b[0m",
      "\u001b[0;31mParsingError\u001b[0m                              Traceback (most recent call last)",
      "Cell \u001b[0;32mIn[3], line 1\u001b[0m\n\u001b[0;32m----> 1\u001b[0m strategy \u001b[39m=\u001b[39m DoubleEMAPlusSMA(strategy_class, strategy_config)\n",
      "File \u001b[0;32m~/vectorbt-research/strategies/double_ema_plus_sma.py:25\u001b[0m, in \u001b[0;36mDoubleEMAPlusSMA.__init__\u001b[0;34m(self, strategy_class, strategy_config)\u001b[0m\n\u001b[1;32m     23\u001b[0m \u001b[39mdef\u001b[39;00m \u001b[39m__init__\u001b[39m(\u001b[39mself\u001b[39m, strategy_class: \u001b[39mstr\u001b[39m, strategy_config: \u001b[39mstr\u001b[39m):\n\u001b[1;32m     24\u001b[0m     \u001b[39msuper\u001b[39m()\u001b[39m.\u001b[39m\u001b[39m__init__\u001b[39m(strategy_class\u001b[39m=\u001b[39mstrategy_class, strategy_config\u001b[39m=\u001b[39mstrategy_config)\n\u001b[0;32m---> 25\u001b[0m     \u001b[39mself\u001b[39m\u001b[39m.\u001b[39mdata_df \u001b[39m=\u001b[39m get_crypto_data_df(\u001b[39mself\u001b[39;49m\u001b[39m.\u001b[39;49msymbol, \u001b[39mself\u001b[39;49m\u001b[39m.\u001b[39;49mresample)\n\u001b[1;32m     26\u001b[0m     \u001b[39mself\u001b[39m\u001b[39m.\u001b[39mbacktest_df \u001b[39m=\u001b[39m datetime_slicer(\u001b[39mself\u001b[39m\u001b[39m.\u001b[39mbacktest_time, \u001b[39mself\u001b[39m\u001b[39m.\u001b[39mdata_df, \u001b[39mself\u001b[39m\u001b[39m.\u001b[39mstart_date, \u001b[39mself\u001b[39m\u001b[39m.\u001b[39mend_date, \u001b[39mself\u001b[39m\u001b[39m.\u001b[39mcount_to_now)\n\u001b[1;32m     28\u001b[0m     \u001b[39m# the part you return the prepare_data_param you need in run_backtest\u001b[39;00m\n",
      "File \u001b[0;32m~/vectorbt-research/strategies/../handler/crypto_px_handler.py:11\u001b[0m, in \u001b[0;36mget_crypto_data_df\u001b[0;34m(symbol, resample_p)\u001b[0m\n\u001b[1;32m      8\u001b[0m \u001b[39mdef\u001b[39;00m \u001b[39mget_crypto_data_df\u001b[39m(symbol: \u001b[39mstr\u001b[39m, resample_p\u001b[39m=\u001b[39m\u001b[39mFalse\u001b[39;00m):\n\u001b[1;32m     10\u001b[0m     path_config \u001b[39m=\u001b[39m configparser\u001b[39m.\u001b[39mConfigParser()\n\u001b[0;32m---> 11\u001b[0m     path_config\u001b[39m.\u001b[39;49mread(\u001b[39mf\u001b[39;49m\u001b[39m'\u001b[39;49m\u001b[39m{\u001b[39;49;00mos\u001b[39m.\u001b[39;49mpath\u001b[39m.\u001b[39;49mdirname(\u001b[39m__file__\u001b[39;49m)\u001b[39m}\u001b[39;49;00m\u001b[39m/../config/path_config.ini\u001b[39;49m\u001b[39m'\u001b[39;49m)\n\u001b[1;32m     13\u001b[0m     \u001b[39mif\u001b[39;00m symbol\u001b[39m.\u001b[39msplit(\u001b[39m\"\u001b[39m\u001b[39m_\u001b[39m\u001b[39m\"\u001b[39m)[\u001b[39m-\u001b[39m\u001b[39m1\u001b[39m] \u001b[39m==\u001b[39m \u001b[39m\"\u001b[39m\u001b[39mSPOT\u001b[39m\u001b[39m\"\u001b[39m:\n\u001b[1;32m     14\u001b[0m         use_spot \u001b[39m=\u001b[39m \u001b[39mTrue\u001b[39;00m\n",
      "File \u001b[0;32m~/anaconda3/envs/Allen/lib/python3.8/configparser.py:697\u001b[0m, in \u001b[0;36mRawConfigParser.read\u001b[0;34m(self, filenames, encoding)\u001b[0m\n\u001b[1;32m    695\u001b[0m \u001b[39mtry\u001b[39;00m:\n\u001b[1;32m    696\u001b[0m     \u001b[39mwith\u001b[39;00m \u001b[39mopen\u001b[39m(filename, encoding\u001b[39m=\u001b[39mencoding) \u001b[39mas\u001b[39;00m fp:\n\u001b[0;32m--> 697\u001b[0m         \u001b[39mself\u001b[39;49m\u001b[39m.\u001b[39;49m_read(fp, filename)\n\u001b[1;32m    698\u001b[0m \u001b[39mexcept\u001b[39;00m \u001b[39mOSError\u001b[39;00m:\n\u001b[1;32m    699\u001b[0m     \u001b[39mcontinue\u001b[39;00m\n",
      "File \u001b[0;32m~/anaconda3/envs/Allen/lib/python3.8/configparser.py:1113\u001b[0m, in \u001b[0;36mRawConfigParser._read\u001b[0;34m(self, fp, fpname)\u001b[0m\n\u001b[1;32m   1111\u001b[0m \u001b[39m# if any parsing errors occurred, raise an exception\u001b[39;00m\n\u001b[1;32m   1112\u001b[0m \u001b[39mif\u001b[39;00m e:\n\u001b[0;32m-> 1113\u001b[0m     \u001b[39mraise\u001b[39;00m e\n",
      "\u001b[0;31mParsingError\u001b[0m: Source contains parsing errors: '/Users/chenyoulun/vectorbt-research/strategies/../handler/../config/path_config.ini'\n\t[line  4]: 'jkj\\n'"
     ]
    }
   ],
   "source": [
    "strategy = DoubleEMAPlusSMA(strategy_class, strategy_config)"
   ]
  },
  {
   "cell_type": "code",
   "execution_count": 7,
   "id": "ae47c64a-4669-48f0-8f26-de02185e52e4",
   "metadata": {},
   "outputs": [
    {
     "ename": "TypeError",
     "evalue": "run_backtest() missing 1 required positional argument: 'freq'",
     "output_type": "error",
     "traceback": [
      "\u001b[0;31m---------------------------------------------------------------------------\u001b[0m",
      "\u001b[0;31mTypeError\u001b[0m                                 Traceback (most recent call last)",
      "Cell \u001b[0;32mIn[7], line 1\u001b[0m\n\u001b[0;32m----> 1\u001b[0m strategy\u001b[39m.\u001b[39;49mrun_backtest()\n",
      "File \u001b[0;32m~/vectorbt-research/strategies/double_ema_plus_sma.py:72\u001b[0m, in \u001b[0;36mDoubleEMAPlusSMA.run_backtest\u001b[0;34m(self)\u001b[0m\n\u001b[1;32m     69\u001b[0m \u001b[39mself\u001b[39m\u001b[39m.\u001b[39mbacktest_df[\u001b[39m'\u001b[39m\u001b[39mexit_short\u001b[39m\u001b[39m'\u001b[39m] \u001b[39m=\u001b[39m np\u001b[39m.\u001b[39mwhere(EMA2_CROSSUP_SMA1, \u001b[39mTrue\u001b[39;00m, \u001b[39mFalse\u001b[39;00m) \n\u001b[1;32m     71\u001b[0m \u001b[39m# 4. Run Backtest\u001b[39;00m\n\u001b[0;32m---> 72\u001b[0m \u001b[39msuper\u001b[39;49m()\u001b[39m.\u001b[39;49mrun_backtest(\u001b[39mself\u001b[39;49m\u001b[39m.\u001b[39;49mbacktest_df)\n",
      "\u001b[0;31mTypeError\u001b[0m: run_backtest() missing 1 required positional argument: 'freq'"
     ]
    }
   ],
   "source": [
    "strategy.run_backtest()"
   ]
  },
  {
   "cell_type": "code",
   "execution_count": null,
   "id": "0c508b72-0623-4f88-90a2-834373b8bdde",
   "metadata": {},
   "outputs": [
    {
     "ename": "",
     "evalue": "",
     "output_type": "error",
     "traceback": [
      "\u001b[1;31mRunning cells with 'Cool' requires the ipykernel package.\n",
      "\u001b[1;31mRun the following command to install 'ipykernel' into the Python environment. \n",
      "\u001b[1;31mCommand: 'conda install -n Cool ipykernel --update-deps --force-reinstall'"
     ]
    }
   ],
   "source": []
  },
  {
   "cell_type": "code",
   "execution_count": null,
   "id": "13273b49-686e-4d96-9988-2275e6d4e01f",
   "metadata": {},
   "outputs": [
    {
     "ename": "",
     "evalue": "",
     "output_type": "error",
     "traceback": [
      "\u001b[1;31mRunning cells with 'Cool' requires the ipykernel package.\n",
      "\u001b[1;31mRun the following command to install 'ipykernel' into the Python environment. \n",
      "\u001b[1;31mCommand: 'conda install -n Cool ipykernel --update-deps --force-reinstall'"
     ]
    }
   ],
   "source": []
  },
  {
   "cell_type": "code",
   "execution_count": null,
   "id": "6b9279ec-99ae-4d30-818e-df7bb346ed16",
   "metadata": {},
   "outputs": [
    {
     "ename": "",
     "evalue": "",
     "output_type": "error",
     "traceback": [
      "\u001b[1;31mRunning cells with 'Cool' requires the ipykernel package.\n",
      "\u001b[1;31mRun the following command to install 'ipykernel' into the Python environment. \n",
      "\u001b[1;31mCommand: 'conda install -n Cool ipykernel --update-deps --force-reinstall'"
     ]
    }
   ],
   "source": []
  },
  {
   "cell_type": "code",
   "execution_count": null,
   "id": "da261dd8-b911-47a8-b703-e337bc7ebefe",
   "metadata": {},
   "outputs": [
    {
     "ename": "",
     "evalue": "",
     "output_type": "error",
     "traceback": [
      "\u001b[1;31mRunning cells with 'Cool' requires the ipykernel package.\n",
      "\u001b[1;31mRun the following command to install 'ipykernel' into the Python environment. \n",
      "\u001b[1;31mCommand: 'conda install -n Cool ipykernel --update-deps --force-reinstall'"
     ]
    }
   ],
   "source": []
  },
  {
   "cell_type": "code",
   "execution_count": null,
   "id": "ca71f61d-793d-4623-87e5-bdc9e3ae4dca",
   "metadata": {},
   "outputs": [
    {
     "ename": "",
     "evalue": "",
     "output_type": "error",
     "traceback": [
      "\u001b[1;31mRunning cells with 'Cool' requires the ipykernel package.\n",
      "\u001b[1;31mRun the following command to install 'ipykernel' into the Python environment. \n",
      "\u001b[1;31mCommand: 'conda install -n Cool ipykernel --update-deps --force-reinstall'"
     ]
    }
   ],
   "source": []
  }
 ],
 "metadata": {
  "kernelspec": {
   "display_name": "Python 3 (ipykernel)",
   "language": "python",
   "name": "python3"
  },
  "language_info": {
   "codemirror_mode": {
    "name": "ipython",
    "version": 3
   },
   "file_extension": ".py",
   "mimetype": "text/x-python",
   "name": "python",
   "nbconvert_exporter": "python",
   "pygments_lexer": "ipython3",
   "version": "3.8.16"
  }
 },
 "nbformat": 4,
 "nbformat_minor": 5
}
