{
 "cells": [
  {
   "cell_type": "code",
   "execution_count": 1,
   "id": "5cc7a58f-5ea2-4a4e-b36a-6fe28d5c8e4e",
   "metadata": {},
   "outputs": [],
   "source": [
    "import sys, os\n",
    "sys.path.insert(1, '/Users/chouwilliam/vectorbt-research')\n",
    "\n",
    "from strategies.double_ema_plus_sma import DoubleEMAPlusSMA\n",
    "\n",
    "strategy_class = 'DoubleEMAPlusSMA'\n",
    "strategy_config = 'double_ema_plus_sma_config_01'"
   ]
  },
  {
   "cell_type": "code",
   "execution_count": 2,
   "id": "f83ae57f-8ac1-4852-b3a8-efae499c95e2",
   "metadata": {},
   "outputs": [],
   "source": [
    "strategy = DoubleEMAPlusSMA(strategy_class, strategy_config)"
   ]
  },
  {
   "cell_type": "code",
   "execution_count": null,
   "id": "ae47c64a-4669-48f0-8f26-de02185e52e4",
   "metadata": {},
   "outputs": [],
   "source": [
    "strategy.run_backtest()"
   ]
  },
  {
   "cell_type": "code",
   "execution_count": null,
   "id": "0c508b72-0623-4f88-90a2-834373b8bdde",
   "metadata": {},
   "outputs": [],
   "source": []
  },
  {
   "cell_type": "code",
   "execution_count": null,
   "id": "13273b49-686e-4d96-9988-2275e6d4e01f",
   "metadata": {},
   "outputs": [],
   "source": []
  }
 ],
 "metadata": {
  "kernelspec": {
   "display_name": "Python 3 (ipykernel)",
   "language": "python",
   "name": "python3"
  },
  "language_info": {
   "codemirror_mode": {
    "name": "ipython",
    "version": 3
   },
   "file_extension": ".py",
   "mimetype": "text/x-python",
   "name": "python",
   "nbconvert_exporter": "python",
   "pygments_lexer": "ipython3",
   "version": "3.8.13"
  }
 },
 "nbformat": 4,
 "nbformat_minor": 5
}
