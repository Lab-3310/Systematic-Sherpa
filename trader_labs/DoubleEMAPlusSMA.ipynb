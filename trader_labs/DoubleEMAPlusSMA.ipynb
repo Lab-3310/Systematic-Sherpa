{
 "cells": [
  {
   "cell_type": "code",
   "execution_count": 1,
   "metadata": {},
   "outputs": [
    {
     "ename": "ModuleNotFoundError",
     "evalue": "No module named 'strategies'",
     "output_type": "error",
     "traceback": [
      "\u001b[1;31m---------------------------------------------------------------------------\u001b[0m",
      "\u001b[1;31mModuleNotFoundError\u001b[0m                       Traceback (most recent call last)",
      "Cell \u001b[1;32mIn[1], line 4\u001b[0m\n\u001b[0;32m      1\u001b[0m \u001b[39mimport\u001b[39;00m \u001b[39msys\u001b[39;00m\u001b[39m,\u001b[39m \u001b[39mos\u001b[39;00m\n\u001b[0;32m      2\u001b[0m sys\u001b[39m.\u001b[39mpath\u001b[39m.\u001b[39minsert(\u001b[39m1\u001b[39m, \u001b[39m'\u001b[39m\u001b[39m/Users/chenyoulun/vectorbt-research\u001b[39m\u001b[39m'\u001b[39m)\n\u001b[1;32m----> 4\u001b[0m \u001b[39mfrom\u001b[39;00m \u001b[39mstrategies\u001b[39;00m\u001b[39m.\u001b[39;00m\u001b[39mdouble_ema_plus_sma\u001b[39;00m \u001b[39mimport\u001b[39;00m DoubleEMAPlusSMA\n\u001b[0;32m      6\u001b[0m strategy_class \u001b[39m=\u001b[39m \u001b[39m'\u001b[39m\u001b[39mDoubleEMAPlusSMA\u001b[39m\u001b[39m'\u001b[39m\n\u001b[0;32m      7\u001b[0m strategy_config \u001b[39m=\u001b[39m \u001b[39m'\u001b[39m\u001b[39mdouble_ema_plus_sma_config_01\u001b[39m\u001b[39m'\u001b[39m\n",
      "\u001b[1;31mModuleNotFoundError\u001b[0m: No module named 'strategies'"
     ]
    }
   ],
   "source": [
    "import sys, os\n",
    "sys.path.insert(1, '/Users/chenyoulun/vectorbt-research')\n",
    "\n",
    "from strategies.double_ema_plus_sma import DoubleEMAPlusSMA\n",
    "\n",
    "strategy_class = 'DoubleEMAPlusSMA'\n",
    "strategy_config = 'double_ema_plus_sma_config_01'"
   ]
  }
 ],
 "metadata": {
  "language_info": {
   "name": "python"
  },
  "orig_nbformat": 4
 },
 "nbformat": 4,
 "nbformat_minor": 2
}
