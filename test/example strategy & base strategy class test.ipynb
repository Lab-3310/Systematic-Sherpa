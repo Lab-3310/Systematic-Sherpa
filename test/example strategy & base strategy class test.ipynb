{
 "cells": [
  {
   "cell_type": "code",
   "execution_count": 1,
   "id": "970f1016",
   "metadata": {},
   "outputs": [],
   "source": [
    "import sys, os\n",
    "sys.path.insert(1, '/Users/chouwilliam/vectorbt-research')\n",
    "\n",
    "from strategies.example_strategy import ExampleStrategy"
   ]
  },
  {
   "cell_type": "code",
   "execution_count": 5,
   "id": "f736925c",
   "metadata": {},
   "outputs": [],
   "source": [
    "strategy_class = 'ExampleStrategy'\n",
    "strategy_config = 'example_config_01'"
   ]
  },
  {
   "cell_type": "code",
   "execution_count": 6,
   "id": "610eefdc",
   "metadata": {},
   "outputs": [
    {
     "ename": "FileNotFoundError",
     "evalue": "[Errno 2] No such file or directory: '/Users/chouwilliam/vectorbt-research/strategies/strategies_config/ExampleStrategy/example_config_01'",
     "output_type": "error",
     "traceback": [
      "\u001b[0;31m---------------------------------------------------------------------------\u001b[0m",
      "\u001b[0;31mFileNotFoundError\u001b[0m                         Traceback (most recent call last)",
      "Input \u001b[0;32mIn [6]\u001b[0m, in \u001b[0;36m<cell line: 1>\u001b[0;34m()\u001b[0m\n\u001b[0;32m----> 1\u001b[0m example_strategy \u001b[38;5;241m=\u001b[39m \u001b[43mExampleStrategy\u001b[49m\u001b[43m(\u001b[49m\u001b[43mstrategy_class\u001b[49m\u001b[43m,\u001b[49m\u001b[43m \u001b[49m\u001b[43mstrategy_config\u001b[49m\u001b[43m)\u001b[49m\n",
      "File \u001b[0;32m~/vectorbt-research/strategies/example_strategy.py:25\u001b[0m, in \u001b[0;36mExampleStrategy.__init__\u001b[0;34m(self, strategy_class, strategy_config)\u001b[0m\n\u001b[1;32m     24\u001b[0m \u001b[38;5;28;01mdef\u001b[39;00m \u001b[38;5;21m__init__\u001b[39m(\u001b[38;5;28mself\u001b[39m, strategy_class: \u001b[38;5;28mstr\u001b[39m, strategy_config: \u001b[38;5;28mstr\u001b[39m):\n\u001b[0;32m---> 25\u001b[0m     \u001b[38;5;28;43msuper\u001b[39;49m\u001b[43m(\u001b[49m\u001b[43m)\u001b[49m\u001b[38;5;241;43m.\u001b[39;49m\u001b[38;5;21;43m__init__\u001b[39;49m\u001b[43m(\u001b[49m\u001b[43mstrategy_class\u001b[49m\u001b[38;5;241;43m=\u001b[39;49m\u001b[43mstrategy_class\u001b[49m\u001b[43m,\u001b[49m\u001b[43m \u001b[49m\u001b[43mstrategy_config\u001b[49m\u001b[38;5;241;43m=\u001b[39;49m\u001b[43mstrategy_config\u001b[49m\u001b[43m)\u001b[49m\n\u001b[1;32m     26\u001b[0m     \u001b[38;5;28mself\u001b[39m\u001b[38;5;241m.\u001b[39mdata_df \u001b[38;5;241m=\u001b[39m get_crypto_data_df(\u001b[38;5;28mself\u001b[39m\u001b[38;5;241m.\u001b[39msymbol, \u001b[38;5;28mself\u001b[39m\u001b[38;5;241m.\u001b[39muse_spot, \u001b[38;5;28mself\u001b[39m\u001b[38;5;241m.\u001b[39mresample)\n\u001b[1;32m     27\u001b[0m     \u001b[38;5;28mself\u001b[39m\u001b[38;5;241m.\u001b[39mbacktest_df \u001b[38;5;241m=\u001b[39m datetime_slicer(\u001b[38;5;28mself\u001b[39m\u001b[38;5;241m.\u001b[39mbacktest_time, \u001b[38;5;28mself\u001b[39m\u001b[38;5;241m.\u001b[39mdata_df, \u001b[38;5;28mself\u001b[39m\u001b[38;5;241m.\u001b[39mstart_date, \u001b[38;5;28mself\u001b[39m\u001b[38;5;241m.\u001b[39mend_date, \u001b[38;5;28mself\u001b[39m\u001b[38;5;241m.\u001b[39mcount_to_now)\n",
      "File \u001b[0;32m~/vectorbt-research/strategies/base_strategy.py:14\u001b[0m, in \u001b[0;36mBaseStrategy.__init__\u001b[0;34m(self, strategy_class, strategy_config)\u001b[0m\n\u001b[1;32m     11\u001b[0m \u001b[38;5;28mself\u001b[39m\u001b[38;5;241m.\u001b[39m_strategy_class \u001b[38;5;241m=\u001b[39m strategy_class\n\u001b[1;32m     12\u001b[0m \u001b[38;5;28mself\u001b[39m\u001b[38;5;241m.\u001b[39m_strategy_config \u001b[38;5;241m=\u001b[39m strategy_config\n\u001b[0;32m---> 14\u001b[0m \u001b[38;5;28;01mwith\u001b[39;00m \u001b[38;5;28;43mopen\u001b[39;49m\u001b[43m(\u001b[49m\u001b[38;5;124;43mf\u001b[39;49m\u001b[38;5;124;43m'\u001b[39;49m\u001b[38;5;132;43;01m{\u001b[39;49;00m\u001b[43mos\u001b[49m\u001b[38;5;241;43m.\u001b[39;49m\u001b[43mpath\u001b[49m\u001b[38;5;241;43m.\u001b[39;49m\u001b[43mdirname\u001b[49m\u001b[43m(\u001b[49m\u001b[38;5;18;43m__file__\u001b[39;49m\u001b[43m)\u001b[49m\u001b[38;5;132;43;01m}\u001b[39;49;00m\u001b[38;5;124;43m/strategies_config/\u001b[39;49m\u001b[38;5;132;43;01m{\u001b[39;49;00m\u001b[43mstrategy_class\u001b[49m\u001b[38;5;132;43;01m}\u001b[39;49;00m\u001b[38;5;124;43m/\u001b[39;49m\u001b[38;5;132;43;01m{\u001b[39;49;00m\u001b[43mstrategy_config\u001b[49m\u001b[38;5;132;43;01m}\u001b[39;49;00m\u001b[38;5;124;43m'\u001b[39;49m\u001b[43m)\u001b[49m \u001b[38;5;28;01mas\u001b[39;00m f:\n\u001b[1;32m     15\u001b[0m     config \u001b[38;5;241m=\u001b[39m json\u001b[38;5;241m.\u001b[39mloads(f\u001b[38;5;241m.\u001b[39mread())\n\u001b[1;32m     16\u001b[0m \u001b[38;5;28mself\u001b[39m\u001b[38;5;241m.\u001b[39m_config \u001b[38;5;241m=\u001b[39m config\n",
      "\u001b[0;31mFileNotFoundError\u001b[0m: [Errno 2] No such file or directory: '/Users/chouwilliam/vectorbt-research/strategies/strategies_config/ExampleStrategy/example_config_01'"
     ]
    }
   ],
   "source": [
    "example_strategy = ExampleStrategy(strategy_class, strategy_config)"
   ]
  },
  {
   "cell_type": "code",
   "execution_count": null,
   "id": "89676971",
   "metadata": {},
   "outputs": [],
   "source": []
  }
 ],
 "metadata": {
  "kernelspec": {
   "display_name": "Python 3 (ipykernel)",
   "language": "python",
   "name": "python3"
  },
  "language_info": {
   "codemirror_mode": {
    "name": "ipython",
    "version": 3
   },
   "file_extension": ".py",
   "mimetype": "text/x-python",
   "name": "python",
   "nbconvert_exporter": "python",
   "pygments_lexer": "ipython3",
   "version": "3.8.13"
  }
 },
 "nbformat": 4,
 "nbformat_minor": 5
}
